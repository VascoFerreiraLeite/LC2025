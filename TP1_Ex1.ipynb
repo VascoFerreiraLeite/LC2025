{
 "cells": [
  {
   "cell_type": "markdown",
   "metadata": {},
   "source": [
    "## Lógica Computacional: 25/26\n",
    "---\n",
    "## TP1 - Ex1\n",
    "\n",
    "$Grupo$ $05$ \n",
    "\n",
    "*   Vasco Ferreira Leite (A108399)\n",
    "*   Gustavo da Silva Faria (A108575)\n",
    "*   Afonso Henrique Cerqueira Leal (A108472)\n",
    "---"
   ]
  },
  {
   "cell_type": "markdown",
   "metadata": {},
   "source": [
    "### Descrição do problema\n",
    "\n",
    "Este problema usa optimização MIP (“Mixed Integer Programming” (OrTools) e representação por  Grafos ( NetworkX)).\n",
    "\n",
    "1. Para um distribuidor de encomendas o seu território está organizados em pontos (“nodes”) de fornecimento (“sources”), pontos de passagem  e pontos de entrega (“sinks”) ligados por vias de comunicação (“edges”) bidirecionais cada uma das quais associada uma capacidade em termos do número de veículos de transporte que suporta.\n",
    "2. Os items distribuidos estão organizados em “pacotes” de três tipos “standard” : uma unidade, duas unidades e cinco unidades. Os pacotes são transportados em veículos todos com a capacidade de 10 unidades. Cada ponto de entrega tem um limite no número total de unidades que tem em “stock” e um limite no número de veículos que dispõe.\n",
    "3. Cada encomenda é definida por o identificador do ponto de entrega e pelo número de pacotes, de cada um dos tipos, que devem ser entregues nesse ponto.\n",
    "4. O objetivo do problema é decidir, a partir de uma encomenda e com um mínimo no número de veículos:\n",
    "\n",
    "        Em cada ponto de entrega,  se estará envolvido no fornecimento de unidades que essa encomenda requer sem violar os limites do seu “stock”.\n",
    "\n",
    "        Em cada ponto de entrega,   como empacotar as unidades disponíveis, de acordo com a encomenda”,  e como as distribuir por veículos,\n",
    "\n",
    "        Em cada veículo, qual o percurso a seguir até  ao ponto de entrega; para cada via ao longo de cada percurso, o total de veículos não pode exceder a capacidade dessa via."
   ]
  },
  {
   "cell_type": "markdown",
   "metadata": {},
   "source": [
    "### **Resolução do problema**\n",
    "\n",
    "##### **Variáveis**"
   ]
  },
  {
   "cell_type": "markdown",
   "metadata": {},
   "source": [
    "meter aqui as merdas referentes a variaveis "
   ]
  },
  {
   "cell_type": "markdown",
   "metadata": {},
   "source": [
    "##### **Importação de Bibliotecas**"
   ]
  },
  {
   "cell_type": "code",
   "execution_count": 1,
   "metadata": {},
   "outputs": [],
   "source": [
    "import networkx as nx\n",
    "import matplotlib.pyplot as plt\n",
    "from ortools.linear_solver import pywraplp"
   ]
  },
  {
   "cell_type": "markdown",
   "metadata": {},
   "source": [
    "*   `NetworkX`: Para modelar e manipular o grafo da rede de distribuição\n",
    "*   `Matplotlib`: Para visualização gráfica da rede\n",
    "*   `OR-Tools`: Para resolver o problema de otimização MIP"
   ]
  },
  {
   "cell_type": "markdown",
   "metadata": {},
   "source": [
    "#### **Funções**\n",
    "\n",
    "*   ##### Função criar_rede"
   ]
  },
  {
   "cell_type": "code",
   "execution_count": 3,
   "metadata": {},
   "outputs": [],
   "source": [
    "def criar_rede():\n",
    "    \"\"\"Cria a rede de distribuição\"\"\"\n",
    "    G = nx.DiGraph()\n",
    "    \n",
    "    # Sources\n",
    "    G.add_node('S1', type='source', color='green', stock=40, veiculos=8)\n",
    "    G.add_node('S2', type='source', color='green', stock=45, veiculos=9)\n",
    "    \n",
    "    # Pontos de passagem\n",
    "    G.add_node('H1', type='passagem', color='lightblue')\n",
    "    G.add_node('H2', type='passagem', color='lightblue')\n",
    "    G.add_node('P1', type='passagem', color='skyblue')\n",
    "    G.add_node('P2', type='passagem', color='skyblue')\n",
    "   \n",
    "    # Destinos\n",
    "    G.add_node('D1', type='sink', color='red')\n",
    "    G.add_node('D2', type='sink', color='red')\n",
    "    G.add_node('D3', type='sink', color='red')\n",
    "    G.add_node('D4', type='sink', color='red')\n",
    "   \n",
    "    # Vias (origem, destino, capacidade)\n",
    "    vias = [\n",
    "        ('S1', 'H1', 12), ('S1', 'H2', 9),\n",
    "        ('S2', 'H1', 10), ('S2', 'P2', 8),\n",
    "        ('H1', 'H2', 9), ('H1', 'P1', 8), ('H1', 'P2', 9), ('H1', 'D1', 5), ('H1', 'D3', 6), \n",
    "        ('H2', 'P1', 6), ('H2', 'D2', 4),\n",
    "        ('P1', 'P2', 6), ('P1', 'D1', 7), ('P1', 'D2', 6),\n",
    "        ('P2', 'D2', 7), ('P2', 'D3', 8), ('P2', 'D4', 9), \n",
    "        ('D1', 'D2', 4), ('D3', 'D4', 5),\n",
    "    ]\n",
    "    \n",
    "    for orig, dest, cap in vias:\n",
    "        G.add_edge(orig, dest, capacity=cap)\n",
    "        G.add_edge(dest, orig, capacity=cap)\n",
    "    \n",
    "    return G"
   ]
  },
  {
   "cell_type": "markdown",
   "metadata": {},
   "source": [
    "Esta função é responsável por construir a rede de distribuição.\n",
    "Para isso, são criados pontos (“nodes”) de fornecimento (“sources”), pontos de passagem  e pontos de entrega (“sinks”) ligados por vias de comunicação (“edges”) . Às sources estão atríbuidas um stock (unidades disponíveis) e um número máximo de veículos. As vias uma capacidade são bidirecionais e está lhes atribuído uma capacidade que representa o número máximo de veículos."
   ]
  },
  {
   "cell_type": "markdown",
   "metadata": {},
   "source": [
    "*   ##### Função visualizar_rede"
   ]
  },
  {
   "cell_type": "code",
   "execution_count": 4,
   "metadata": {},
   "outputs": [],
   "source": [
    "def visualizar_rede(G):\n",
    "    \"\"\"Visualiza a rede de distribuição\"\"\"\n",
    "    sources = [n for n in G.nodes if G.nodes[n]['type'] == 'source']\n",
    "    sinks = [n for n in G.nodes if G.nodes[n]['type'] == 'sink']\n",
    "    passagem = [n for n in G.nodes if G.nodes[n]['type'] == 'passagem']\n",
    "        \n",
    "    pos = {}\n",
    "    for i, node in enumerate(sources):\n",
    "        pos[node] = (i * 2, 3)\n",
    "    \n",
    "    hubs = [n for n in passagem if n.startswith('H')]\n",
    "    intermedios = [n for n in passagem if n.startswith('P')]\n",
    "    \n",
    "    for i, node in enumerate(hubs):\n",
    "        pos[node] = (i * 2.5 + 0.5, 2)\n",
    "    for i, node in enumerate(intermedios):\n",
    "        pos[node] = (i * 2 + 1, 1)\n",
    "    for i, node in enumerate(sinks):\n",
    "        pos[node] = (i * 1.5 + 0.5, 0)\n",
    "    \n",
    "    plt.figure(figsize=(14, 10))\n",
    "  \n",
    "    node_colors = [G.nodes[n]['color'] for n in G.nodes]\n",
    "    \n",
    "    nx.draw_networkx_edges(G, pos, width=1, alpha=1, \n",
    "                          edge_color='black', arrows=True, arrowsize=15)\n",
    "    nx.draw_networkx_nodes(G, pos, node_color=node_colors, \n",
    "                          node_size=1200, edgecolors='black')\n",
    "    nx.draw_networkx_labels(G, pos, font_size=9, font_weight='bold')\n",
    "    \n",
    "    edge_labels = {}\n",
    "    edges_processed = set()\n",
    "    for u, v in G.edges():\n",
    "        if (v, u) not in edges_processed:\n",
    "            edge_labels[(u, v)] = G[u][v]['capacity']\n",
    "            edges_processed.add((u, v))\n",
    "    \n",
    "    nx.draw_networkx_edge_labels(G, pos, edge_labels, alpha=1)\n",
    "    \n",
    "    plt.title(\"Rede de Distribuição\", fontsize=14, fontweight='bold')\n",
    "    plt.axis('off')\n",
    "    plt.tight_layout()\n",
    "    plt.show()\n"
   ]
  },
  {
   "cell_type": "markdown",
   "metadata": {},
   "source": []
  }
 ],
 "metadata": {
  "kernelspec": {
   "display_name": "logica",
   "language": "python",
   "name": "python3"
  },
  "language_info": {
   "codemirror_mode": {
    "name": "ipython",
    "version": 3
   },
   "file_extension": ".py",
   "mimetype": "text/x-python",
   "name": "python",
   "nbconvert_exporter": "python",
   "pygments_lexer": "ipython3",
   "version": "3.10.18"
  }
 },
 "nbformat": 4,
 "nbformat_minor": 2
}
