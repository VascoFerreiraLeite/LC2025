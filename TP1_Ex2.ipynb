{
 "cells": [
  {
   "cell_type": "markdown",
   "id": "2f0d5c50",
   "metadata": {},
   "source": [
    "## Lógica Computacional: 25/26\n",
    "---\n",
    "## TP1 - Ex2\n",
    "\n",
    "$Grupo$ $05$ \n",
    "\n",
    "*   Vasco Ferreira Leite (A108399)\n",
    "*   Gustavo da Silva Faria (A108575)\n",
    "*   Afonso Henrique Cerqueira Leal (A108472)\n",
    "---"
   ]
  },
  {
   "cell_type": "markdown",
   "id": "9177f966",
   "metadata": {},
   "source": [
    "Neste trabalho pretende-se generalizar o problema em várias direções:\n",
    "\n",
    "- **Em primeiro lugar**, a grelha tem como parâmetro fundamental um inteiro que toma vários valores $n \\in \\{3,4,\\dots\\}$. Fundamentalmente a grelha passa de um quadrado com $n^{2} \\times n^{2}$ células para um cubo tridimensional de dimensões $n^{2} \\times n^{2} \\times n^{2}$. Cada posição na grelha é representada por um triplo de inteiros $(i,j,k) \\in \\{1,\\dots,n^{2}\\}^{3}$.\n",
    "\n",
    "- **Em segundo lugar**, as “regiões” que a definição menciona deixam de ser linhas, colunas e “sub-grids” para passar a ser qualquer “box” genérica com um número de células $\\leq n^{3}$. Cada “box” é representada por um dicionário $D$ que associa, no estado inicial, cada posição $(i,j,k) \\in D$ na “box” a um valor inteiro no intervalo $\\{0,\\dots,n^{3}\\}$.\n",
    "\n",
    "- Na inicialização da solução, as células associadas ao valor $0$ estão livres para ser instanciadas com qualquer valor não nulo. Se nessa fase, uma célula está associada a um valor não nulo, então esse valor está **fixo** e qualquer solução do problema não o modifica.\n",
    "\n",
    "- A solução final do problema, tal como no problema original, verifica uma restrição do tipo *all-different* que, neste caso, tem a forma:  \n",
    "  > Dentro de uma mesma “box”, todas as células têm valores distintos no intervalo  \n",
    "  > $\\{1,\\dots,n^{3}\\}$.\n",
    "\n",
    "- Consideram-se neste problema duas formas básicas de “boxes”:\n",
    "  - **“Cubos”** de $n^{3}$ células determinados pelo seu vértice superior, anterior, esquerdo.\n",
    "  - **“Paths”** determinados pelo seu vértice de início, o vértice final e pela ordem entre os índices dos vértices sucessivos.\n",
    "\n",
    "O **input** do problema é um conjunto de “boxes” e um conjunto de alocações de valores a células.\n"
   ]
  },
  {
   "cell_type": "markdown",
   "id": "255210ad",
   "metadata": {},
   "source": [
    "### Variáveis:\n",
    "\n",
    "**Variáveis de decisão:**\n",
    "- `cells[(i,j,k)]`: Valor da célula na posição $(i,j,k)$, domínio $[1, n^3]$\n",
    "\n",
    "**Parâmetros:**\n",
    "- `n`: Variável base do problema\n",
    "- `size`: $n^2$ (dimensão de cada aresta do cubo)\n",
    "- `domain_size`: $n^3$ tamanho do domínio (maior valor tomado por uma célula)\n",
    "- `fixed_assignments`: Células com valores pré-definidos\n",
    "- `cube_boxes`: Lista de cubos $n \\times n \\times n$\n",
    "- `path_boxes`: Lista de paths entre vértices\n",
    "- `generic_boxes`: Lista de boxes customizadas"
   ]
  },
  {
   "cell_type": "code",
   "execution_count": 1,
   "id": "a20a4219",
   "metadata": {},
   "outputs": [],
   "source": [
    "from ortools.sat.python import cp_model"
   ]
  },
  {
   "cell_type": "markdown",
   "id": "258bdce9",
   "metadata": {},
   "source": [
    "Função principal que cria o modelo CP-SAT, inicializa as variáveis para todas as células do cubo, adiciona os valores fixos fornecidos como input, aplica todas as restrições, e invoca o solver para encontrar uma solução."
   ]
  },
  {
   "cell_type": "code",
   "execution_count": 2,
   "id": "eb7e38cb",
   "metadata": {},
   "outputs": [],
   "source": [
    "def solve_sudoku_3d(n, valoresFixos=None, cube_boxes=None, generic_boxes=None):\n",
    "    \n",
    "    size = n * n\n",
    "    domain_size = n * n * n\n",
    "    \n",
    "    model = cp_model.CpModel()\n",
    "    solver = cp_model.CpSolver()\n",
    "    \n",
    "    cells = {}\n",
    "    for i in range(1, size + 1):\n",
    "        for j in range(1, size + 1):\n",
    "            for k in range(1, size + 1):\n",
    "                cells[(i, j, k)] = model.NewIntVar(1, domain_size, f'cell_{i}_{j}_{k}')\n",
    "    \n",
    "    if valoresFixos:\n",
    "        for (i, j, k), value in valoresFixos.items():\n",
    "            if value != 0:\n",
    "                model.Add(cells[(i, j, k)] == value)\n",
    "    \n",
    "    _add_basic_constraints(model, cells, size)\n",
    "    \n",
    "    if cube_boxes:\n",
    "        for start_i, start_j, start_k in cube_boxes:\n",
    "            _add_cube_box(model, cells, n, size, start_i, start_j, start_k)\n",
    "    \n",
    "    if generic_boxes:\n",
    "        for box_dict in generic_boxes:\n",
    "            _add_generic_box(model, cells, box_dict)\n",
    "    \n",
    "    status = solver.Solve(model)\n",
    "    \n",
    "    if status in [cp_model.OPTIMAL, cp_model.FEASIBLE]:\n",
    "        solution = {}\n",
    "        for (i, j, k), var in cells.items():\n",
    "            solution[(i, j, k)] = solver.Value(var)\n",
    "        return solution\n",
    "    else:\n",
    "        print(f\"Solução não encontrada. Status: {status}\")\n",
    "        return None"
   ]
  },
  {
   "cell_type": "markdown",
   "id": "1d7b57a2",
   "metadata": {},
   "source": [
    "## Função: Restrições Básicas do Sudoku\n",
    "\n",
    "Esta função implementa as restrições fundamentais do Sudoku.  \n",
    "Para cada uma das três direções:\n",
    "\n",
    "- **Linhas** (ao longo de `k`)\n",
    "- **Colunas** (ao longo de `j`)\n",
    "- **Pilhas** (ao longo de `i`)\n",
    "\n",
    "Aplica a restrição **`AllDifferent`**, garantindo que não há valores repetidos em nenhuma dessas direções.\n"
   ]
  },
  {
   "cell_type": "code",
   "execution_count": 3,
   "id": "f150730e",
   "metadata": {},
   "outputs": [],
   "source": [
    "def _add_basic_constraints(model, cells, size):\n",
    "    \n",
    "    for i in range(1, size + 1):\n",
    "        for j in range(1, size + 1):\n",
    "            row_cells = [cells[(i, j, k)] for k in range(1, size + 1)]\n",
    "            model.AddAllDifferent(row_cells)\n",
    "    \n",
    "    for i in range(1, size + 1):\n",
    "        for k in range(1, size + 1):\n",
    "            col_cells = [cells[(i, j, k)] for j in range(1, size + 1)]\n",
    "            model.AddAllDifferent(col_cells)\n",
    "    \n",
    "    for j in range(1, size + 1):\n",
    "        for k in range(1, size + 1):\n",
    "            stack_cells = [cells[(i, j, k)] for i in range(1, size + 1)]\n",
    "            model.AddAllDifferent(stack_cells)"
   ]
  },
  {
   "cell_type": "markdown",
   "id": "b08d25eb",
   "metadata": {},
   "source": [
    "## Função: Restrição box básica\n",
    "\n",
    "Implementa boxes do tipo cubo, definidas pelo seu vértice superior-anterior-esquerdo. Constrói um subcubo de dimensões $n \\times n \\times n$ e aplica a restrição AllDifferent a todas as suas $n^3$ células."
   ]
  },
  {
   "cell_type": "code",
   "execution_count": 4,
   "id": "2b3d48c4",
   "metadata": {},
   "outputs": [],
   "source": [
    "def _add_cube_box(model, cells, n, size, start_i, start_j, start_k):\n",
    "    \n",
    "    cells_in_box = []\n",
    "    \n",
    "    for di in range(n):\n",
    "        for dj in range(n):\n",
    "            for dk in range(n):\n",
    "                i = start_i + di\n",
    "                j = start_j + dj  \n",
    "                k = start_k + dk\n",
    "                if 1 <= i <= size and 1 <= j <= size and 1 <= k <= size:\n",
    "                    cells_in_box.append(cells[(i, j, k)])\n",
    "    \n",
    "    if len(cells_in_box) > 1:\n",
    "        model.AddAllDifferent(cells_in_box)\n",
    "    \n",
    "    return cells_in_box"
   ]
  },
  {
   "cell_type": "markdown",
   "id": "8c2c79cb",
   "metadata": {},
   "source": [
    "## Função: Restrição box custumizada\n",
    "\n",
    "Implementa boxes genéricas customizáveis através de um dicionário. Permite definir qualquer conjunto de células como uma área e aplica all-diferent as mesmas, onde células com valor 0 são livres e devem ter valores diferentes entre si, e células com valores não-nulos têm esses valores fixados."
   ]
  },
  {
   "cell_type": "code",
   "execution_count": 5,
   "id": "95083c1e",
   "metadata": {},
   "outputs": [],
   "source": [
    "def _add_generic_box(model, cells, box_dict):\n",
    "\n",
    "    free_cells = []\n",
    "    \n",
    "    for (i, j, k), value in box_dict.items():\n",
    "        if value == 0:\n",
    "            free_cells.append(cells[(i, j, k)])\n",
    "        else:\n",
    "            model.Add(cells[(i, j, k)] == value)\n",
    "    \n",
    "    if len(free_cells) > 1:\n",
    "        model.AddAllDifferent(free_cells)\n",
    "    \n",
    "    return free_cells"
   ]
  },
  {
   "cell_type": "markdown",
   "id": "e69e74c3",
   "metadata": {},
   "source": [
    "## Função: Visualização da sulução\n",
    "\n",
    "Função auxiliar para visualização da solução 3D. Esta função emprime o cubo em camadas ao longo de um eixo."
   ]
  },
  {
   "cell_type": "code",
   "execution_count": 6,
   "id": "c60ece83",
   "metadata": {},
   "outputs": [],
   "source": [
    "def print_solution_3d(solution, n):\n",
    "\n",
    "    if not solution:\n",
    "        print(\"Nenhuma solução para imprimir\")\n",
    "        return\n",
    "    \n",
    "    size = n * n\n",
    "    \n",
    "    coord_ranges = {\n",
    "        'i': range(1, size + 1),\n",
    "        'j': range(1, size + 1), \n",
    "        'k': range(1, size + 1)\n",
    "    }\n",
    "    \n",
    "    fixed_coord = 'k'\n",
    "    moving_coords = ['i', 'j']\n",
    "    \n",
    "    for fixed_val in coord_ranges[fixed_coord]:\n",
    "        print(f\"\\n--- Camada {fixed_coord} = {fixed_val} ---\")\n",
    "\n",
    "        layer_matrix = []\n",
    "        for mv1 in coord_ranges[moving_coords[0]]:\n",
    "            row = []\n",
    "            for mv2 in coord_ranges[moving_coords[1]]:\n",
    "                coords = {fixed_coord: fixed_val, moving_coords[0]: mv1, moving_coords[1]: mv2}\n",
    "                value = solution[(coords['i'], coords['j'], coords['k'])]\n",
    "                row.append(value)\n",
    "            layer_matrix.append(row)\n",
    "        \n",
    "        for row in layer_matrix:\n",
    "            print(' '.join(f'{val:3d}' for val in row))"
   ]
  },
  {
   "cell_type": "markdown",
   "id": "228c147d",
   "metadata": {},
   "source": [
    "## Exemplo de problema\n",
    "n = 5"
   ]
  },
  {
   "cell_type": "code",
   "execution_count": null,
   "id": "971de2fc",
   "metadata": {},
   "outputs": [],
   "source": [
    "n = 4\n",
    "size = n * n\n",
    "domain_size = n * n * n\n",
    "valoresFixos = {}   \n",
    "\n",
    "valoresFixos[(1, 1, 1)] = 1\n",
    "valoresFixos[(1, 1, 16)] = 16\n",
    "valoresFixos[(1, 16, 1)] = 32\n",
    "valoresFixos[(16, 1, 1)] = 48\n",
    "valoresFixos[(16, 16, 16)] = 64  \n",
    "\n",
    "center = size // 2  \n",
    "quarter = size // 4  \n",
    "    \n",
    "valoresFixos[(center, center, center)] = domain_size // 2\n",
    "valoresFixos[(1, center, center)] = 31\n",
    "valoresFixos[(16, center, center)] = 42\n",
    "valoresFixos[(center, 1, center)] = 44\n",
    "valoresFixos[(center, 16, center)] = 27\n",
    "valoresFixos[(center, center, 1)] = 56\n",
    "valoresFixos[(center, center, 16)] = 38\n",
    "valoresFixos[(quarter, quarter, quarter)] = 16\n",
    "valoresFixos[(size-quarter, quarter, quarter)] = 41\n",
    "valoresFixos[(quarter, size-quarter, quarter)] = 45\n",
    "valoresFixos[(size-quarter, size-quarter, quarter)] = 11\n",
    "    \n",
    "cube_boxes = []\n",
    "for start_i in range(1, size + 1, n):     \n",
    "    for start_j in range(1, size + 1, n):\n",
    "        for start_k in range(1, size + 1, n):\n",
    "            cube_boxes.append((start_i, start_j, start_k))\n",
    "    \n",
    "generic_boxes = []\n",
    "    \n",
    "cruz_3d = {}\n",
    "cruz_size = 3\n",
    "half_cruz = cruz_size // 2\n",
    "    \n",
    "for offset in range(-half_cruz, half_cruz + 1):\n",
    "    if center + offset <= size:\n",
    "        cruz_3d[(center + offset, center, center)] = 0\n",
    "    if center + offset <= size:\n",
    "        cruz_3d[(center, center + offset, center)] = 0\n",
    "    if center + offset <= size:\n",
    "        cruz_3d[(center, center, center + offset)] = 0\n",
    "    \n",
    "generic_boxes.append(cruz_3d)"
   ]
  },
  {
   "cell_type": "markdown",
   "id": "79060bb1",
   "metadata": {},
   "source": [
    "## Exemplo de problema\n",
    "n = 2"
   ]
  },
  {
   "cell_type": "code",
   "execution_count": 12,
   "id": "b6c9e3a4",
   "metadata": {},
   "outputs": [],
   "source": [
    "n = 2  \n",
    "\n",
    "valoresFixos = {\n",
    "    (1, 1, 1): 1,\n",
    "    (4, 4, 4): 8,\n",
    "    (2, 2, 2): 4\n",
    "}\n",
    "    \n",
    "cube_boxes = [\n",
    "    (1, 1, 1),  \n",
    "    (1, 3, 1),  \n",
    "]\n",
    "    \n",
    "generic_boxes = [\n",
    "    {\n",
    "        (1, 2, 1): 0,  \n",
    "        (1, 2, 2): 3,  \n",
    "        (2, 2, 1): 0,    \n",
    "        (2, 2, 2): 0   \n",
    "    }\n",
    "]"
   ]
  },
  {
   "cell_type": "markdown",
   "id": "21057d1d",
   "metadata": {},
   "source": [
    "## Execução"
   ]
  },
  {
   "cell_type": "code",
   "execution_count": 22,
   "id": "e61bfe13",
   "metadata": {},
   "outputs": [
    {
     "name": "stdout",
     "output_type": "stream",
     "text": [
      "Solução não encontrada. Status: 0\n",
      "\n",
      "✗ Não foi possível encontrar solução\n"
     ]
    }
   ],
   "source": [
    "solution = solve_sudoku_3d(\n",
    "    n=n,\n",
    "    valoresFixos=valoresFixos,\n",
    "    cube_boxes=cube_boxes,\n",
    "    generic_boxes=generic_boxes\n",
    ")\n",
    "\n",
    "if solution:\n",
    "    print(\"\\n✓ Solução encontrada!\")\n",
    "    print_solution_3d(solution, n)\n",
    "    \n",
    "    print(\"\\n--- Verificação de valores fixos ---\")\n",
    "    for coords in [(1,1,1), (2,2,2), (4,4,4)]:\n",
    "        print(f\"Célula {coords}: {solution[coords]}\")\n",
    "else:\n",
    "    print(\"\\n✗ Não foi possível encontrar solução\")"
   ]
  }
 ],
 "metadata": {
  "kernelspec": {
   "display_name": "logica-clean",
   "language": "python",
   "name": "python3"
  },
  "language_info": {
   "codemirror_mode": {
    "name": "ipython",
    "version": 3
   },
   "file_extension": ".py",
   "mimetype": "text/x-python",
   "name": "python",
   "nbconvert_exporter": "python",
   "pygments_lexer": "ipython3",
   "version": "3.10.18"
  }
 },
 "nbformat": 4,
 "nbformat_minor": 5
}
