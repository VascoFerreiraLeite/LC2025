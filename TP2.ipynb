{
 "cells": [
  {
   "cell_type": "markdown",
   "id": "2f0d5c50",
   "metadata": {},
   "source": [
    "## Lógica Computacional: 25/26\n",
    "---\n",
    "## TP1 - Ex2\n",
    "\n",
    "$Grupo$ $05$ \n",
    "\n",
    "*   Vasco Ferreira Leite (A108399)\n",
    "*   Gustavo da Silva Faria (A108575)\n",
    "*   Afonso Henrique Cerqueira Leal (A108472)\n",
    "---"
   ]
  },
  {
   "cell_type": "markdown",
   "id": "1495258e",
   "metadata": {},
   "source": []
  },
  {
   "cell_type": "markdown",
   "id": "fb5717cc",
   "metadata": {},
   "source": []
  }
 ],
 "metadata": {
  "language_info": {
   "name": "python"
  }
 },
 "nbformat": 4,
 "nbformat_minor": 5
}
