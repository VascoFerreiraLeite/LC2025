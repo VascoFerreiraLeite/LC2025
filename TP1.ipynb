{
 "cells": [
  {
   "cell_type": "markdown",
   "id": "d304932f",
   "metadata": {},
   "source": [
    "## Lógica Computacional: 25/26\n",
    "---\n",
    "## TP1 - Ex1\n",
    "\n",
    "$Grupo$ $05$ \n",
    "\n",
    "*   Vasco Ferreira Leite (A108399)\n",
    "*   Gustavo da Silva Faria (A108575)\n",
    "*   Afonso Henrique Cerqueira Leal (A108472)\n",
    "---"
   ]
  },
  {
   "cell_type": "markdown",
   "id": "0a65dc68",
   "metadata": {},
   "source": [
    "\n",
    "Exercício 1\n",
    "\n",
    "Este problema usa optimização MIP (“Mixed Integer Programming” (OrTools) e representação por  Grafos ( NetworkX).\n",
    "\n",
    "1. Para um distribuidor de encomendas o seu território está organizados em pontos (“nodes”) de fornecimento (“sources”), pontos de passagem  e pontos de entrega (“sinks”) ligados por vias de comunicação (“edges”) bidirecionais cada uma das quais associada uma capacidade em termos do número de veículos de transporte que suporta.\n",
    "2. Os items distribuidos estão organizados em “pacotes” de três tipos “standard” : uma unidade, duas unidades e cinco unidades. Os pacotes são transportados em veículos todos com a capacidade de 10 unidades. Cada ponto de entrega tem um limite no número total de unidades que tem em “stock” e um limite no número de veículos que dispõe.\n",
    "3. Cada encomenda é definida por o identificador do ponto de entrega e pelo número de pacotes, de cada um dos tipos, que devem ser entregues nesse ponto.\n",
    "4. O objetivo do problema é decidir, a partir de uma encomenda e com um mínimo no número de veículos:\n",
    "\n",
    "        Em cada ponto de entrega,  se estará envolvido no fornecimento de unidades que essa encomenda requer sem violar os limites do seu “stock”.\n",
    "\n",
    "        Em cada ponto de entrega,   como empacotar as unidades disponíveis, de acordo com a encomenda”,  e como as distribuir por veículos,\n",
    "\n",
    "        Em cada veículo, qual o percurso a seguir até  ao ponto de entrega; para cada via ao longo de cada percurso, o total de veículos não pode exceder a capacidade dessa via."
   ]
  }
 ],
 "metadata": {
  "kernelspec": {
   "display_name": "logica-clean",
   "language": "python",
   "name": "python3"
  },
  "language_info": {
   "name": "python",
   "version": "3.10.18"
  }
 },
 "nbformat": 4,
 "nbformat_minor": 5
}
